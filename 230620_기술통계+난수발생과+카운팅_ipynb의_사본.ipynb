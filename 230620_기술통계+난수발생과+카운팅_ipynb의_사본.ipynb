{
  "nbformat": 4,
  "nbformat_minor": 0,
  "metadata": {
    "colab": {
      "provenance": [],
      "include_colab_link": true
    },
    "kernelspec": {
      "name": "python3",
      "display_name": "Python 3"
    },
    "language_info": {
      "name": "python"
    }
  },
  "cells": [
    {
      "cell_type": "markdown",
      "metadata": {
        "id": "view-in-github",
        "colab_type": "text"
      },
      "source": [
        "<a href=\"https://colab.research.google.com/github/LEESUNG02/colab_note/blob/main/230620_%EA%B8%B0%EC%88%A0%ED%86%B5%EA%B3%84%2B%EB%82%9C%EC%88%98%EB%B0%9C%EC%83%9D%EA%B3%BC%2B%EC%B9%B4%EC%9A%B4%ED%8C%85_ipynb%EC%9D%98_%EC%82%AC%EB%B3%B8.ipynb\" target=\"_parent\"><img src=\"https://colab.research.google.com/assets/colab-badge.svg\" alt=\"Open In Colab\"/></a>"
      ]
    },
    {
      "cell_type": "markdown",
      "source": [
        "# 기술 통계"
      ],
      "metadata": {
        "id": "tqxkhX-JFimj"
      }
    },
    {
      "cell_type": "markdown",
      "source": [
        "## 기술 통계(descriptive statistics)\n",
        "> 데이터 집합에 대해 통계를 계산\n",
        "* 데이터의 개수(count)\n",
        "* 평균(mean, average)\n",
        "* 분산(variance)\n",
        "* 표준 편차(standard deviation)\n",
        "* 최댓값(maximum)\n",
        "* 최솟값(minimum)\n",
        "* 중앙값(median)\n",
        "* 사분위수(quartile)"
      ],
      "metadata": {
        "id": "gchQwkseFsUX"
      }
    },
    {
      "cell_type": "code",
      "source": [
        "import numpy as np"
      ],
      "metadata": {
        "id": "lz8J0At3NPXJ"
      },
      "execution_count": null,
      "outputs": []
    },
    {
      "cell_type": "code",
      "source": [
        "x = np.array([\n",
        "    18, 5, 10, 23, 19, -8, 10, 0, 0, 5, 2, 15, 8,\n",
        "    2, 5, 4, 15, -1, 4, -7, -24, 7, 9, -6, 23, -13\n",
        "])\n",
        "x"
      ],
      "metadata": {
        "id": "jttHEMK4F9XX",
        "colab": {
          "base_uri": "https://localhost:8080/"
        },
        "outputId": "9ed89523-71f1-4768-99c5-7a64b219994b"
      },
      "execution_count": null,
      "outputs": [
        {
          "output_type": "execute_result",
          "data": {
            "text/plain": [
              "array([ 18,   5,  10,  23,  19,  -8,  10,   0,   0,   5,   2,  15,   8,\n",
              "         2,   5,   4,  15,  -1,   4,  -7, -24,   7,   9,  -6,  23, -13])"
            ]
          },
          "metadata": {},
          "execution_count": 3
        }
      ]
    },
    {
      "cell_type": "markdown",
      "source": [
        "## 데이터의 개수"
      ],
      "metadata": {
        "id": "5bzioyHoF557"
      }
    },
    {
      "cell_type": "code",
      "source": [
        "len(x)"
      ],
      "metadata": {
        "colab": {
          "base_uri": "https://localhost:8080/"
        },
        "id": "wlTrzCbKFl4j",
        "outputId": "9450e8c1-7a78-475a-f4e0-b1427a52b7a0"
      },
      "execution_count": null,
      "outputs": [
        {
          "output_type": "execute_result",
          "data": {
            "text/plain": [
              "26"
            ]
          },
          "metadata": {},
          "execution_count": 5
        }
      ]
    },
    {
      "cell_type": "markdown",
      "source": [
        "## 표본 평균\n",
        "* 우리가 일반적으로 아는 평균\n",
        "* 통계용어로는 표본 평균(sample average, sample mean)\n",
        "<br>\n",
        "$\n",
        "\\bar{x} = \\frac{1}{N}\\displaystyle\\sum_{i=1}^{N}{x_i}\n",
        "$\n",
        "(𝑁은 데이터의 개수)"
      ],
      "metadata": {
        "id": "3xe5u1nkGBgM"
      }
    },
    {
      "cell_type": "code",
      "source": [
        "np.mean(x), x.mean()"
      ],
      "metadata": {
        "colab": {
          "base_uri": "https://localhost:8080/"
        },
        "id": "SiQn6qJlF_Y_",
        "outputId": "448d24cd-d410-445a-9823-b91da7fd71ab"
      },
      "execution_count": null,
      "outputs": [
        {
          "output_type": "execute_result",
          "data": {
            "text/plain": [
              "(4.8076923076923075, 4.8076923076923075)"
            ]
          },
          "metadata": {},
          "execution_count": 7
        }
      ]
    },
    {
      "cell_type": "markdown",
      "source": [
        "## 표본 분산\n",
        "* 표본 분산(sample variance) : 데이터와 표본 평균간의 거리의 제곱의 평균\n",
        "* 표본 분산이 작으면 데이터가 모여있는 것이고 크면 흩어져 있는 것\n",
        "<br>\n",
        "$\n",
        "s^2 = \\frac{1}{N}\\displaystyle\\sum_{i=1}^{N}{(x_i-\\bar{x})^2}\n",
        "$"
      ],
      "metadata": {
        "id": "sMmBl-uLHWwF"
      }
    },
    {
      "cell_type": "code",
      "source": [
        "np.var(x), x.var()"
      ],
      "metadata": {
        "colab": {
          "base_uri": "https://localhost:8080/"
        },
        "id": "ukbJg498HWZG",
        "outputId": "ba0c8d75-144c-4a7a-fbcf-147ae6c22b6a"
      },
      "execution_count": null,
      "outputs": [
        {
          "output_type": "execute_result",
          "data": {
            "text/plain": [
              "(115.23224852071006, 115.23224852071006)"
            ]
          },
          "metadata": {},
          "execution_count": 8
        }
      ]
    },
    {
      "cell_type": "markdown",
      "source": [
        "## 표본 표준편차\n",
        "* 표본 표준편차(sample standard variance) : 표본 분산의 양의 제곱근 값\n",
        "<br>\n",
        "$\n",
        "s = \\sqrt{s^2}\n",
        "$"
      ],
      "metadata": {
        "id": "ox3H6KB8H4Hd"
      }
    },
    {
      "cell_type": "code",
      "source": [
        "np.std(x), x.std()"
      ],
      "metadata": {
        "colab": {
          "base_uri": "https://localhost:8080/"
        },
        "id": "ESjtI9K9HP8g",
        "outputId": "ece2ffec-a9d2-439c-ee61-a3f56d6c2a40"
      },
      "execution_count": null,
      "outputs": [
        {
          "output_type": "execute_result",
          "data": {
            "text/plain": [
              "(10.734628476137871, 10.734628476137871)"
            ]
          },
          "metadata": {},
          "execution_count": 9
        }
      ]
    },
    {
      "cell_type": "markdown",
      "source": [
        "## 최댓값과 최솟값"
      ],
      "metadata": {
        "id": "68MH4LSRINEC"
      }
    },
    {
      "cell_type": "code",
      "source": [
        "# 최댓값 (maximum) / 최솟값 (minimum)\n",
        "np.max(x), x.max(), np.min(x), x.min()"
      ],
      "metadata": {
        "colab": {
          "base_uri": "https://localhost:8080/"
        },
        "id": "E-KkdiALIPvE",
        "outputId": "9d61d634-eb58-4a71-8a13-468f28cd2efa"
      },
      "execution_count": null,
      "outputs": [
        {
          "output_type": "execute_result",
          "data": {
            "text/plain": [
              "(23, 23, -24, -24)"
            ]
          },
          "metadata": {},
          "execution_count": 11
        }
      ]
    },
    {
      "cell_type": "markdown",
      "source": [
        "## 중앙값\n",
        "* 중앙값(median) : 데이터를 크기대로 정렬하였을 때 가장 가운데에 있는 수\n",
        "* 만약 데이터의 수가 짝수이면 가장 가운데에 있는 두 수의 평균을 사용\n"
      ],
      "metadata": {
        "id": "vGgHFClPIWQV"
      }
    },
    {
      "cell_type": "code",
      "source": [
        "np.median(x) # 내장 메소드 x"
      ],
      "metadata": {
        "colab": {
          "base_uri": "https://localhost:8080/"
        },
        "id": "LS2P0zPnIUvN",
        "outputId": "6c1f0906-a37f-4f96-b6d2-cdc19aa51774"
      },
      "execution_count": null,
      "outputs": [
        {
          "output_type": "execute_result",
          "data": {
            "text/plain": [
              "5.0"
            ]
          },
          "metadata": {},
          "execution_count": 13
        }
      ]
    },
    {
      "cell_type": "markdown",
      "source": [
        "## 사분위수\n",
        "* 사분위수(quartile) : 데이터를 가장 작은 수부터 가장 큰 수까지 크기가 커지는 순서대로 정렬하였을 때 1/4, 2/4, 3/4 위치에 있는 수\n",
        "* 각각 1사분위수, 2사분위수, 3사분위수라고 함\n",
        "* 1/4의 위치란 전체 데이터의 수가 만약 100개이면 25번째 순서, 즉 하위 25%\n",
        "* 따라서 2사분위수는 중앙값과 같음\n",
        "* 때로는 위치를 1/100 단위로 나눈 백분위수(percentile)을 사용하기도 함\n",
        "* 1사분위수는 25% 백분위수와 같음\n"
      ],
      "metadata": {
        "id": "b1pLnirSIfsI"
      }
    },
    {
      "cell_type": "code",
      "source": [
        "np.percentile(x, 0) # 최솟값 min"
      ],
      "metadata": {
        "colab": {
          "base_uri": "https://localhost:8080/"
        },
        "id": "EHTZ62T8Ici8",
        "outputId": "b84e8967-e6be-4561-9de5-3f0a15bd2fb5"
      },
      "execution_count": null,
      "outputs": [
        {
          "output_type": "execute_result",
          "data": {
            "text/plain": [
              "-24.0"
            ]
          },
          "metadata": {},
          "execution_count": 15
        }
      ]
    },
    {
      "cell_type": "code",
      "source": [
        "np.percentile(x, 25)  # 25% 백분위수, 1사분위수"
      ],
      "metadata": {
        "colab": {
          "base_uri": "https://localhost:8080/"
        },
        "id": "h8tVnPH6Ixcv",
        "outputId": "40f52df7-09bd-4743-c908-f245ed0ce42a"
      },
      "execution_count": null,
      "outputs": [
        {
          "output_type": "execute_result",
          "data": {
            "text/plain": [
              "0.0"
            ]
          },
          "metadata": {},
          "execution_count": 16
        }
      ]
    },
    {
      "cell_type": "code",
      "source": [
        "np.percentile(x, 50)  # 50% 백분위수, 2사분위수, 중앙값"
      ],
      "metadata": {
        "colab": {
          "base_uri": "https://localhost:8080/"
        },
        "id": "PuT1HTElIza1",
        "outputId": "1eb9f09e-d37a-4dfe-9001-d3582636d0fa"
      },
      "execution_count": null,
      "outputs": [
        {
          "output_type": "execute_result",
          "data": {
            "text/plain": [
              "5.0"
            ]
          },
          "metadata": {},
          "execution_count": 17
        }
      ]
    },
    {
      "cell_type": "code",
      "source": [
        "np.percentile(x, 75)  # 75% 백분위수, 3사분위수"
      ],
      "metadata": {
        "colab": {
          "base_uri": "https://localhost:8080/"
        },
        "id": "v7wB_7N_I0zM",
        "outputId": "9aeb1829-d686-4263-9396-41af9bb61c47"
      },
      "execution_count": null,
      "outputs": [
        {
          "output_type": "execute_result",
          "data": {
            "text/plain": [
              "10.0"
            ]
          },
          "metadata": {},
          "execution_count": 18
        }
      ]
    },
    {
      "cell_type": "code",
      "source": [
        "np.percentile(x, 100)  # 100% 백분위수, 4사분위수, 최댓값"
      ],
      "metadata": {
        "colab": {
          "base_uri": "https://localhost:8080/"
        },
        "id": "JbCd4SqGI20l",
        "outputId": "ecf94b12-8f92-45fa-f12f-735db2994529"
      },
      "execution_count": null,
      "outputs": [
        {
          "output_type": "execute_result",
          "data": {
            "text/plain": [
              "23.0"
            ]
          },
          "metadata": {},
          "execution_count": 19
        }
      ]
    },
    {
      "cell_type": "markdown",
      "source": [
        "# 난수 발생과 카운팅"
      ],
      "metadata": {
        "id": "x1uZuajeI9Si"
      }
    },
    {
      "cell_type": "markdown",
      "source": [
        "## 시드 설정\n",
        "* 컴퓨터 프로그램에서 발생하는 무작위 수는 사실 엄격한 의미의 무작위 수가 아님\n",
        "* 어떤 특정한 시작 숫자를 정해 주면 컴퓨터가 정해진 알고리즘에 의해 마치 난수처럼 보이는 수열을 생성. 이런 시작 숫자를 시드(seed)라고 함\n",
        "* 일단 생성된 난수는 다음번 난수 생성을 위한 시드값이 됨. 따라서 시드값은 한 번만 정해주면 됨.\n",
        "* 시드는 보통 현재 시각 등을 이용하여 자동으로 정해지지만 사람이 수동으로 설정할 수도 있음 * 특정한 시드값이 사용되면 그 다음에 만들어지는 난수들은 모두 예측할 수 있음\n",
        "* 고정된 결과를 얻기 위해서 실습엔 시드를 설정"
      ],
      "metadata": {
        "id": "ZCEj6C5UJHHc"
      }
    },
    {
      "cell_type": "code",
      "source": [
        "np.random.seed(0) # 시드값 고정"
      ],
      "metadata": {
        "id": "R9wwclqfI8_9"
      },
      "execution_count": null,
      "outputs": []
    },
    {
      "cell_type": "markdown",
      "source": [
        "### `rand` : 0과 1 사이의 난수를 발생"
      ],
      "metadata": {
        "id": "OQRCx_xUJf6l"
      }
    },
    {
      "cell_type": "code",
      "source": [
        "np.random.rand(5)  # rand(n) : n개의 길이를 가지는 배열에 각각 0~1 사이의 난수를 채워줌"
      ],
      "metadata": {
        "colab": {
          "base_uri": "https://localhost:8080/"
        },
        "id": "w26duH5TJb7f",
        "outputId": "9729e2d1-8a71-46ea-900a-8489581851e5"
      },
      "execution_count": null,
      "outputs": [
        {
          "output_type": "execute_result",
          "data": {
            "text/plain": [
              "array([0.64589411, 0.43758721, 0.891773  , 0.96366276, 0.38344152])"
            ]
          },
          "metadata": {},
          "execution_count": 22
        }
      ]
    },
    {
      "cell_type": "code",
      "source": [
        "np.random.rand(10)"
      ],
      "metadata": {
        "colab": {
          "base_uri": "https://localhost:8080/"
        },
        "id": "33U8DmzuQ531",
        "outputId": "17414a6a-93c1-4446-e447-9a9d8fe75b4a"
      },
      "execution_count": null,
      "outputs": [
        {
          "output_type": "execute_result",
          "data": {
            "text/plain": [
              "array([0.79172504, 0.52889492, 0.56804456, 0.92559664, 0.07103606,\n",
              "       0.0871293 , 0.0202184 , 0.83261985, 0.77815675, 0.87001215])"
            ]
          },
          "metadata": {},
          "execution_count": 23
        }
      ]
    },
    {
      "cell_type": "markdown",
      "source": [
        "## 데이터의 순서 변경"
      ],
      "metadata": {
        "id": "TvJHX9FmJtgQ"
      }
    },
    {
      "cell_type": "markdown",
      "source": [
        "### `shuffle`\n",
        "* 데이터의 순서를 변경\n",
        "* 자체 변환(in-place) 함수 (원본에 영향)"
      ],
      "metadata": {
        "id": "89jdzc8rJyqB"
      }
    },
    {
      "cell_type": "code",
      "source": [
        "x = np.arange(10)\n",
        "x"
      ],
      "metadata": {
        "colab": {
          "base_uri": "https://localhost:8080/"
        },
        "id": "vUHakdiQJpjl",
        "outputId": "90759ba7-0a6c-4261-b76b-90fe234af1f4"
      },
      "execution_count": null,
      "outputs": [
        {
          "output_type": "execute_result",
          "data": {
            "text/plain": [
              "array([0, 1, 2, 3, 4, 5, 6, 7, 8, 9])"
            ]
          },
          "metadata": {},
          "execution_count": 25
        }
      ]
    },
    {
      "cell_type": "code",
      "source": [
        "np.random.shuffle(x) # x를 섞어줌 -> 자체를 섞어버림\n",
        "x"
      ],
      "metadata": {
        "colab": {
          "base_uri": "https://localhost:8080/"
        },
        "id": "ReqSVnNlJ7S0",
        "outputId": "802d72fa-145d-4c30-8d9c-948491f76f96"
      },
      "execution_count": null,
      "outputs": [
        {
          "output_type": "execute_result",
          "data": {
            "text/plain": [
              "array([4, 1, 5, 8, 9, 2, 0, 3, 6, 7])"
            ]
          },
          "metadata": {},
          "execution_count": 27
        }
      ]
    },
    {
      "cell_type": "markdown",
      "source": [
        "## 데이터 샘플링\n",
        "* 표본선택 혹은 샘플링(sampling) : 이미 있는 데이터 집합에서 일부를 무작위로 선택하는 것"
      ],
      "metadata": {
        "id": "MbQrSKXMKJAg"
      }
    },
    {
      "cell_type": "markdown",
      "source": [
        "### `choice` : 샘플링에 사용\n",
        "```\n",
        "numpy.random.choice(a, size=None, replace=True, p=None)\n",
        "```\n",
        "* a : 배열이면 원래의 데이터, 정수이면 arange(a) 명령으로 데이터 생성\n",
        "* size : 정수. 샘플 숫자\n",
        "* replace : 불리언. True이면 한번 선택한 데이터를 다시 선택 가능 (복원/비복원 추출)\n",
        "* p : 배열. 각 데이터가 선택될 수 있는 확률"
      ],
      "metadata": {
        "id": "gEkehbizKWrq"
      }
    },
    {
      "cell_type": "code",
      "source": [
        "np.random.choice(5, 5, replace=False) # 5개 중에 5개를 선택 -> 비복원 -> shuffle"
      ],
      "metadata": {
        "colab": {
          "base_uri": "https://localhost:8080/"
        },
        "id": "YvjoHXqIJ9KJ",
        "outputId": "687e0dcc-51c9-43d2-dbd9-421164c977e5"
      },
      "execution_count": null,
      "outputs": [
        {
          "output_type": "execute_result",
          "data": {
            "text/plain": [
              "array([2, 1, 3, 4, 0])"
            ]
          },
          "metadata": {},
          "execution_count": 29
        }
      ]
    },
    {
      "cell_type": "code",
      "source": [
        "np.random.choice(5, 3, replace=False) # 5개 중에 3개를 선택 -> 비복원 -> shuffle"
      ],
      "metadata": {
        "colab": {
          "base_uri": "https://localhost:8080/"
        },
        "id": "knplEnwIKnYh",
        "outputId": "04d2873b-d13f-4ebf-c3d8-2a0fbc6afbda"
      },
      "execution_count": null,
      "outputs": [
        {
          "output_type": "execute_result",
          "data": {
            "text/plain": [
              "array([4, 2, 3])"
            ]
          },
          "metadata": {},
          "execution_count": 38
        }
      ]
    },
    {
      "cell_type": "code",
      "source": [
        "#np.random.choices(5, 10) # 복원 5개 중에 10개를 선택(뽑았던 것을 또 뽑는다)\n",
        "np.random.choice(5, 10, replace=True)"
      ],
      "metadata": {
        "colab": {
          "base_uri": "https://localhost:8080/"
        },
        "id": "4Yd_3i6QKqMw",
        "outputId": "d4d51ac3-271d-4501-bf3d-e106785d86b8"
      },
      "execution_count": null,
      "outputs": [
        {
          "output_type": "execute_result",
          "data": {
            "text/plain": [
              "array([0, 1, 1, 3, 0, 0, 1, 2, 4, 2])"
            ]
          },
          "metadata": {},
          "execution_count": 44
        }
      ]
    },
    {
      "cell_type": "code",
      "source": [
        "# [0, 1, 2, 3, 4]\n",
        "np.random.choice(5, 10, p=[0.1, 0, 0.3, 0.6, 0]) # 복원, 5개 중에 10개를 선택 (뽑았던 것을 또 뽑는다)"
      ],
      "metadata": {
        "colab": {
          "base_uri": "https://localhost:8080/"
        },
        "id": "lkbuDYTuKvBN",
        "outputId": "9a6c83d7-9b5f-47d0-be5d-c392b29abe9e"
      },
      "execution_count": null,
      "outputs": [
        {
          "output_type": "execute_result",
          "data": {
            "text/plain": [
              "array([3, 3, 3, 0, 3, 0, 3, 3, 2, 3])"
            ]
          },
          "metadata": {},
          "execution_count": 45
        }
      ]
    },
    {
      "cell_type": "markdown",
      "source": [
        "## 난수 생성\n",
        "* `rand` : 0부터 1 사이의 균일 분포\n",
        "* `randn` : 표준 정규 분포\n",
        "* `randint` : 균일 분포의 정수 난수"
      ],
      "metadata": {
        "id": "D8oZhgNLLCgd"
      }
    },
    {
      "cell_type": "markdown",
      "source": [
        "### `rand` : 0부터 1 사이에서 균일한 확률 분포로 실수 난수를 생성\n",
        "* 숫자 인수는 생성할 난수의 크기\n",
        "* 여러 개의 인수를 넣으면 해당 크기를 가진 행렬을 생성"
      ],
      "metadata": {
        "id": "BcH0M0-_LPMP"
      }
    },
    {
      "cell_type": "code",
      "source": [
        "np.random.rand(10)"
      ],
      "metadata": {
        "colab": {
          "base_uri": "https://localhost:8080/"
        },
        "id": "EWqs3z-zK0k_",
        "outputId": "3fa44de8-a809-45d7-a022-2c89002d292f"
      },
      "execution_count": null,
      "outputs": [
        {
          "output_type": "execute_result",
          "data": {
            "text/plain": [
              "array([0.68866118, 0.88047589, 0.91823547, 0.21682214, 0.56518887,\n",
              "       0.86510256, 0.50896896, 0.91672295, 0.92115761, 0.08311249])"
            ]
          },
          "metadata": {},
          "execution_count": 46
        }
      ]
    },
    {
      "cell_type": "code",
      "source": [
        "np.random.rand(3,5)"
      ],
      "metadata": {
        "colab": {
          "base_uri": "https://localhost:8080/"
        },
        "id": "DJTNzp8oLbVj",
        "outputId": "fddea185-3a92-40aa-a837-897b25872e01"
      },
      "execution_count": null,
      "outputs": [
        {
          "output_type": "execute_result",
          "data": {
            "text/plain": [
              "array([[0.58846509, 0.65966841, 0.53320625, 0.23053302, 0.39486929],\n",
              "       [0.61880856, 0.47486752, 0.47013219, 0.71607453, 0.287991  ],\n",
              "       [0.38346223, 0.74916984, 0.87845219, 0.10286336, 0.09237389]])"
            ]
          },
          "metadata": {},
          "execution_count": 49
        }
      ]
    },
    {
      "cell_type": "markdown",
      "source": [
        "### `randn` : 기댓값이 0이고 표준편차가 1인 표준 정규 분포(standard normal distribution)를 따르는 난수를 생성"
      ],
      "metadata": {
        "id": "HdWD5uVkLjQt"
      }
    },
    {
      "cell_type": "code",
      "source": [
        "np.random.randn(10)"
      ],
      "metadata": {
        "colab": {
          "base_uri": "https://localhost:8080/"
        },
        "id": "AlJYbewHLeZB",
        "outputId": "58f544d6-d461-4c03-e65e-065e9148e8c0"
      },
      "execution_count": null,
      "outputs": [
        {
          "output_type": "execute_result",
          "data": {
            "text/plain": [
              "array([-4.06536527e-01,  1.06095115e+00, -1.03522496e-01,  1.41816829e-01,\n",
              "        5.81819743e-01,  1.35454064e+00,  4.61577057e-01, -6.51715276e-01,\n",
              "        3.81171943e-05,  8.89754310e-01])"
            ]
          },
          "metadata": {},
          "execution_count": 52
        }
      ]
    },
    {
      "cell_type": "code",
      "source": [
        "np.random.randn(3, 5)"
      ],
      "metadata": {
        "colab": {
          "base_uri": "https://localhost:8080/"
        },
        "id": "gbDMC1OxLt3f",
        "outputId": "75338334-f2da-4e51-92a8-a3b703133316"
      },
      "execution_count": null,
      "outputs": [
        {
          "output_type": "execute_result",
          "data": {
            "text/plain": [
              "array([[-1.27348939,  0.03178615,  0.46235833,  0.35354835, -1.06197932],\n",
              "       [-0.26135467, -1.17139852, -1.85708744, -0.14481625, -0.48386811],\n",
              "       [-0.77979698,  1.21390595, -2.12251201, -0.13776681, -0.41732262]])"
            ]
          },
          "metadata": {},
          "execution_count": 51
        }
      ]
    },
    {
      "cell_type": "markdown",
      "source": [
        "### `randint`\n",
        "```\n",
        "numpy.random.randint(low, high=None, size=None)\n",
        "```\n",
        "만약 `high`를 입력하지 않으면 0과 `low`사이의 숫자, `high`를 입력하면 `low`와 `high`는 사이의 숫자를 출력. `size`는 난수의 숫자"
      ],
      "metadata": {
        "id": "FDtGkcnjLzTM"
      }
    },
    {
      "cell_type": "code",
      "source": [
        "np.random.randint(10, size=10)  # 시작점"
      ],
      "metadata": {
        "colab": {
          "base_uri": "https://localhost:8080/"
        },
        "id": "H5eTlhBGLy_D",
        "outputId": "d3f75108-fa7f-45a9-bd02-c5d292ea9064"
      },
      "execution_count": null,
      "outputs": [
        {
          "output_type": "execute_result",
          "data": {
            "text/plain": [
              "array([2, 8, 4, 3, 0, 4, 3, 6, 9, 8])"
            ]
          },
          "metadata": {},
          "execution_count": 321
        }
      ]
    },
    {
      "cell_type": "code",
      "source": [
        "np.random.randint(10, 20, size=10)  # 시작점, 끝점"
      ],
      "metadata": {
        "colab": {
          "base_uri": "https://localhost:8080/"
        },
        "id": "xlpHLyNALuyj",
        "outputId": "e220463a-b80f-4110-e831-9c837ce5b809"
      },
      "execution_count": null,
      "outputs": [
        {
          "output_type": "execute_result",
          "data": {
            "text/plain": [
              "array([10, 18, 15, 19, 10, 19, 16, 15, 13, 11])"
            ]
          },
          "metadata": {},
          "execution_count": 322
        }
      ]
    },
    {
      "cell_type": "code",
      "source": [
        "np.random.randint(10, 20, size=(3,5))"
      ],
      "metadata": {
        "colab": {
          "base_uri": "https://localhost:8080/"
        },
        "id": "RwOU04I2ME1f",
        "outputId": "62400551-9f73-4914-bc44-2b7a1c43b002"
      },
      "execution_count": null,
      "outputs": [
        {
          "output_type": "execute_result",
          "data": {
            "text/plain": [
              "array([[18, 10, 14, 19, 16],\n",
              "       [15, 17, 18, 18, 19],\n",
              "       [12, 18, 16, 16, 19]])"
            ]
          },
          "metadata": {},
          "execution_count": 323
        }
      ]
    },
    {
      "cell_type": "markdown",
      "source": [
        "## 💡 연습문제 7\n",
        "1. 동전을 10번 던져 앞면(숫자 1)과 뒷면(숫자 0)이 나오는 가상 실험을 작성하라\n",
        "2. 주사위를 100번 던져서 나오는 숫자의 평균\n",
        "3. 가격이 10,000원인 주식이 있다. 이 주식의 일간 수익률(%)은 기댓값이 0%이고 표준편차가 1%인 표준 정규 분포를 따른다고 하자. 250일 동안의 주가를 무작위로 생성하라"
      ],
      "metadata": {
        "id": "dCofCh17MOVI"
      }
    },
    {
      "cell_type": "code",
      "source": [
        "# 1.\n",
        "np.random.choice([0, 1], size=10, replace=True)"
      ],
      "metadata": {
        "colab": {
          "base_uri": "https://localhost:8080/"
        },
        "id": "wSVBjqWJMGJ3",
        "outputId": "549d49d9-c235-4e29-86a3-1dd8d2b765f7"
      },
      "execution_count": 61,
      "outputs": [
        {
          "output_type": "execute_result",
          "data": {
            "text/plain": [
              "array([1, 1, 0, 0, 1, 1, 0, 0, 0, 0])"
            ]
          },
          "metadata": {},
          "execution_count": 61
        }
      ]
    },
    {
      "cell_type": "code",
      "source": [
        "np.random.choice([0, 1], size=10, replace=True)"
      ],
      "metadata": {
        "colab": {
          "base_uri": "https://localhost:8080/"
        },
        "id": "Ij3lTV1gZiC4",
        "outputId": "916db6bb-9ab5-4123-d25c-819ef15ac465"
      },
      "execution_count": 62,
      "outputs": [
        {
          "output_type": "execute_result",
          "data": {
            "text/plain": [
              "array([1, 1, 0, 0, 0, 0, 1, 0, 0, 0])"
            ]
          },
          "metadata": {},
          "execution_count": 62
        }
      ]
    },
    {
      "cell_type": "code",
      "source": [
        "# 2.\n",
        "# np.random.randint(1, 7, 100)\n",
        "# np.random.randint(1, 7, 100), mean()\n",
        "np.random.choice(range(1, 7), size=100, replace=True).mean()"
      ],
      "metadata": {
        "colab": {
          "base_uri": "https://localhost:8080/"
        },
        "id": "rpstIcwsNB-3",
        "outputId": "3f0ae249-c5b8-4efe-c8e6-3a8779705400"
      },
      "execution_count": 65,
      "outputs": [
        {
          "output_type": "execute_result",
          "data": {
            "text/plain": [
              "3.31"
            ]
          },
          "metadata": {},
          "execution_count": 65
        }
      ]
    },
    {
      "cell_type": "code",
      "source": [
        "# 3.\n",
        "np.random.randn(250)  # 정규분포!\n",
        "# 평균(기댓값)이 0이고, 표준편차가 1인 정규분포. 1% -> 0.01"
      ],
      "metadata": {
        "colab": {
          "base_uri": "https://localhost:8080/"
        },
        "id": "zrCTnmQBNjbm",
        "outputId": "5076d299-6ae4-499f-a184-ab84c7e23b20"
      },
      "execution_count": 75,
      "outputs": [
        {
          "output_type": "execute_result",
          "data": {
            "text/plain": [
              "array([-1.25243153,  0.58083555,  0.06593382, -0.05469835,  0.08980445,\n",
              "       -0.35990857, -1.15538383, -1.94679996, -0.52064647, -1.77169783,\n",
              "       -0.68963604, -0.57156609,  0.03134201, -1.11431378,  0.29203201,\n",
              "        0.03551557,  0.11619986,  0.89909405, -0.78440609,  0.26701859,\n",
              "       -0.67177599, -2.08850056,  1.69717522,  2.75703969,  2.33440988,\n",
              "       -0.30163745, -2.2370097 ,  1.86559944, -0.38629529, -2.31794572,\n",
              "        0.1113988 ,  0.58158611, -1.30735878,  0.84745595, -1.14701312,\n",
              "        0.67291893,  1.18000193,  1.58708418, -0.77239565, -0.96873834,\n",
              "       -1.06389001, -1.43123383, -1.86660095, -2.13146385,  0.95566836,\n",
              "        0.36782454,  0.98357763, -0.22950136,  0.7103582 ,  0.42644556,\n",
              "        1.46503946,  0.64143206,  1.18012521,  0.54718364, -0.04156063,\n",
              "        0.26973224,  0.22945564,  0.71892616, -1.35437525,  2.22779305,\n",
              "       -0.86489695,  1.44518385,  0.43159422,  2.05935557,  1.77112996,\n",
              "       -1.37609029,  0.44849241,  2.232889  , -0.60404464, -0.84254301,\n",
              "       -0.67583283, -1.60871092, -0.33282137, -0.85491288, -0.55919488,\n",
              "        0.02285489, -0.93630383, -0.20387702,  1.12518905,  0.56205436,\n",
              "       -0.34517926,  0.01140603,  0.82836477, -0.49820472,  0.17965442,\n",
              "       -1.11396222, -1.60068999,  1.20055349,  0.01884606, -0.37528101,\n",
              "       -1.05286291,  2.46290783,  0.27664322,  0.44059832, -0.7981917 ,\n",
              "       -0.2415865 ,  0.34170485,  0.26277799,  0.02140013, -0.72346098,\n",
              "        0.25635525,  0.04473119,  1.55296084,  0.03924975, -1.0049745 ,\n",
              "       -0.47965368,  0.31977025, -0.66616633, -0.2293022 , -0.25284635,\n",
              "       -1.51293894,  0.65394709,  1.02293582,  0.20880578,  0.03756426,\n",
              "        0.85038503, -0.07436801, -0.83157124, -1.84776384,  1.54259227,\n",
              "       -1.63679323,  0.45522959,  0.52043535,  0.55432505,  1.01164178,\n",
              "       -0.08958394, -0.41382259, -0.67100639, -0.30700297, -0.68794773,\n",
              "       -0.3374833 , -0.0434235 , -1.22526907,  0.69690366,  0.5581072 ,\n",
              "        0.75478982,  0.46276529, -1.05108184, -0.93694423, -1.03292387,\n",
              "       -0.73507422, -0.11733996, -0.72190967, -0.58468697,  1.00017596,\n",
              "        0.68962075,  0.70594056, -0.02435648,  0.04371954,  0.71518059,\n",
              "        0.1416329 , -0.51817412, -0.37625458,  0.76018817, -0.22143915,\n",
              "       -0.26642992,  1.51146426,  1.23823168,  0.97843067,  1.83002261,\n",
              "        0.49300075,  1.42734426,  1.06509389,  0.25967878, -0.39954696,\n",
              "       -1.37592506, -0.03998438,  0.96644377, -1.51101504,  0.2873807 ,\n",
              "        0.77396738, -2.32196482, -0.04508078, -0.34965085, -0.47465823,\n",
              "       -0.43683471,  0.60436431,  0.58171503, -0.19327315,  2.526964  ,\n",
              "       -0.54070512, -0.25327607,  0.23312878, -0.92762548,  0.07797328,\n",
              "        2.28523154,  1.03591478, -2.11685755,  0.7188912 , -0.46041911,\n",
              "        0.8427326 , -0.30176021,  1.54592587,  0.56780944,  0.59484985,\n",
              "        0.55250463,  0.92889408,  0.76828591,  0.70845299, -0.61283027,\n",
              "        1.42728529,  0.54366103, -0.47390032,  0.74737782, -0.14362004,\n",
              "        0.25550501,  2.2216437 ,  1.30615126,  2.40912906,  0.3996239 ,\n",
              "       -0.84605019,  0.38207269, -0.36298733, -0.17945212, -0.18284533,\n",
              "       -1.89067604,  0.97765169, -0.18302214,  0.59400493,  0.54096229,\n",
              "       -0.44211156, -0.5074754 , -0.71190593,  1.1881366 , -1.81726978,\n",
              "       -1.48572616, -0.69015372,  3.02716867, -1.24053084,  0.07303629,\n",
              "        0.19194001,  0.59835643, -0.70481736,  1.01966388, -1.08867878,\n",
              "       -0.67400438, -0.27860828,  1.27464064,  0.6018001 ,  1.7006729 ,\n",
              "       -0.96808726,  1.7705045 ,  1.09736563, -0.75801968, -2.5857443 ,\n",
              "        0.34775081,  1.2571334 ,  2.99494739,  0.75454852,  0.58344359])"
            ]
          },
          "metadata": {},
          "execution_count": 75
        }
      ]
    },
    {
      "cell_type": "code",
      "source": [
        "a = np.random.randn(250) / 100  # 일간 수익률이 표준정규분포를 따르는 (0과 0.01 표준편차)\n",
        "a"
      ],
      "metadata": {
        "colab": {
          "base_uri": "https://localhost:8080/"
        },
        "id": "tlum2d0ocGgL",
        "outputId": "76484575-5c71-4118-fbae-8f84e317acf4"
      },
      "execution_count": 76,
      "outputs": [
        {
          "output_type": "execute_result",
          "data": {
            "text/plain": [
              "array([ 8.00506799e-03,  6.82175340e-03, -6.38075232e-03, -1.30200656e-02,\n",
              "        6.30262843e-03, -1.61214138e-02,  9.84341411e-04, -9.60708294e-03,\n",
              "        1.07508306e-02,  9.54179037e-03, -7.80118471e-05, -5.02471610e-03,\n",
              "        3.73564885e-03,  5.01590193e-03, -3.43325170e-04, -1.00362314e-02,\n",
              "       -4.33249572e-03,  2.16369380e-03, -1.35345049e-02, -1.34654015e-02,\n",
              "       -5.22914945e-03,  9.12994551e-03, -6.27658953e-03, -1.88217055e-03,\n",
              "        1.17977575e-03, -3.73624774e-03,  3.77132004e-03, -1.55555375e-03,\n",
              "       -1.69529682e-03,  7.68110207e-05, -1.14158531e-03, -9.83278736e-03,\n",
              "       -3.61133639e-03,  1.85565268e-04,  1.10330373e-02,  4.57796467e-03,\n",
              "       -2.11673860e-02, -4.65317600e-03,  4.37243874e-03,  2.43483551e-03,\n",
              "        1.04203233e-02,  1.35146445e-02,  1.76342238e-02, -6.22374884e-03,\n",
              "       -5.50159160e-03, -2.19540892e-02, -3.46107993e-03,  4.67486848e-03,\n",
              "       -1.49079178e-02,  1.80285154e-03,  1.12860016e-02,  2.69201846e-03,\n",
              "        5.04793928e-03, -4.38792215e-04,  5.89054907e-04, -1.78270813e-02,\n",
              "        1.07138216e-02, -3.36582592e-03,  1.63659924e-02, -1.07684777e-02,\n",
              "       -2.64879285e-03,  1.36155521e-02, -1.18014331e-02,  3.23574120e-02,\n",
              "        1.48368638e-02, -1.31481072e-02,  8.69057590e-03,  9.71625590e-03,\n",
              "        1.34492068e-02, -6.69003249e-03, -2.03961503e-03, -2.51865389e-03,\n",
              "       -1.26843063e-03,  7.94596998e-03, -1.28934176e-03,  1.72536705e-02,\n",
              "        5.34459631e-03,  1.30514006e-02,  2.70629747e-04, -4.99424969e-04,\n",
              "        2.74200477e-03, -2.99361190e-03, -1.07569633e-02,  1.26074902e-03,\n",
              "        3.52663926e-03, -1.05708304e-03, -1.96648239e-02, -4.43357921e-03,\n",
              "       -1.63262548e-02,  1.41026516e-02,  1.11976457e-02, -1.45976151e-02,\n",
              "       -1.43848599e-02,  4.54481908e-03, -8.58516703e-04,  8.65644942e-03,\n",
              "       -8.74008158e-03, -1.12665182e-03, -1.30429005e-02, -1.18741108e-02,\n",
              "        3.97288862e-03,  1.66453700e-02,  3.28849992e-03,  1.13894825e-02,\n",
              "        1.45839601e-02,  3.18224670e-03, -1.01809589e-02,  1.15583273e-03,\n",
              "       -1.07849803e-02,  3.33425713e-03,  9.40333994e-03,  2.62638608e-03,\n",
              "        6.76849694e-03, -1.76801861e-02, -2.37958835e-02, -8.61953300e-03,\n",
              "       -1.62884809e-02, -8.52426089e-04, -3.57894224e-03, -1.58582131e-03,\n",
              "       -1.96982012e-03, -1.40741073e-03,  1.46530120e-02, -4.83450382e-03,\n",
              "        9.21699568e-03,  1.11742270e-02, -3.92971202e-03,  5.93785420e-03,\n",
              "       -1.12912100e-02,  1.46135234e-02,  1.66043290e-03,  4.18507773e-03,\n",
              "        1.47911806e-02,  1.58412917e-02,  5.45407542e-03,  1.10749833e-02,\n",
              "        2.07569440e-02,  5.95969262e-03, -3.00211861e-05, -3.29286562e-03,\n",
              "       -1.45919782e-02,  1.74906029e-02, -1.64107720e-02, -1.06428714e-02,\n",
              "        7.05546247e-03,  7.98171895e-03,  1.17446068e-03, -4.02225908e-03,\n",
              "       -2.74546690e-03,  4.12983233e-03, -1.72870759e-02, -2.14482159e-02,\n",
              "       -1.70963651e-02,  6.45718733e-03,  2.39069370e-03, -5.21293247e-03,\n",
              "       -1.08143438e-02, -1.06433124e-02, -3.52602445e-03,  3.39672018e-03,\n",
              "       -1.05833073e-03, -5.68069075e-03,  1.15140363e-02,  3.93936516e-03,\n",
              "        9.80479293e-03, -1.86100825e-02, -2.07167347e-02,  1.05006077e-02,\n",
              "        5.85745954e-03, -7.10592620e-03, -2.28075336e-02,  1.09923046e-02,\n",
              "        1.78157710e-02,  6.72770334e-03,  4.41189322e-03,  5.65239176e-03,\n",
              "        5.13581900e-04, -3.07438515e-03, -1.55310802e-03,  4.08929721e-03,\n",
              "       -1.01900270e-03, -7.04837258e-03,  6.13741844e-03, -1.31707518e-03,\n",
              "        1.79102255e-02,  6.61327930e-03,  9.02735705e-03, -1.87547759e-02,\n",
              "        1.27532834e-02,  7.07442605e-03, -6.79384364e-03,  5.34620738e-03,\n",
              "        1.30425593e-03, -3.69229234e-03,  1.79469727e-02, -9.99825791e-03,\n",
              "       -5.72817741e-03,  3.81998685e-03,  6.40432747e-03, -8.45181594e-03,\n",
              "       -1.67410810e-02,  9.35416267e-04,  4.76578831e-03, -1.15530922e-02,\n",
              "        9.07980300e-03, -8.05502777e-03, -1.24242177e-02, -1.29979652e-02,\n",
              "       -4.11592625e-03, -1.09664224e-02, -5.63030750e-03,  8.49762138e-03,\n",
              "       -8.05441713e-03,  7.82576357e-03, -1.03105117e-02, -1.07564075e-02,\n",
              "        2.82961165e-03,  5.70124925e-03,  4.26065663e-03, -1.03796997e-02,\n",
              "        1.02660476e-02, -1.04801035e-03, -4.41172638e-03,  9.66358386e-04,\n",
              "        5.11266708e-04,  1.09014061e-03, -9.97339003e-03, -6.13459099e-03,\n",
              "       -3.40661602e-04,  8.66525326e-03,  3.50437244e-03,  1.61834493e-02,\n",
              "       -2.65350197e-02, -1.10777715e-03, -9.42080863e-04,  1.49696616e-02,\n",
              "        7.87515693e-03, -4.78403541e-05, -1.85005180e-02, -3.62718235e-03,\n",
              "       -2.41405912e-03,  4.85382756e-03, -6.55661296e-03, -9.75888830e-03,\n",
              "       -1.21160877e-02,  1.81293790e-03,  3.66683794e-03, -1.94805053e-03,\n",
              "        1.34384664e-02, -8.48585494e-03])"
            ]
          },
          "metadata": {},
          "execution_count": 76
        }
      ]
    },
    {
      "cell_type": "code",
      "source": [
        "start = 10000  # 가격이 10000원 -> 250일 -> 평균/표준편차가 반영되면서 250일.\n",
        "price = np.empty(250)  # 자리\n",
        "for i, v in enumerate(a): # a -> 가격이 0의 기댓값, 1%의 표준편차를 바탕으로 250일치의 변화율이 생성\n",
        "    start *= (1 + v)  # i = index, v = 변화율\n",
        "    # -> 해당 금액의 변화율이 반영된 금액\n",
        "    price[i] = start  # 변화율에 따라서 변경된 금액에 배열에 저장.\n",
        "    # 한 번씩 for이 돌때마다 -> index += 1 => 계속 변화율이 반영된 금액들이 다음 인덱스에 저장"
      ],
      "metadata": {
        "id": "Wal5m7QQboHt"
      },
      "execution_count": 73,
      "outputs": []
    },
    {
      "cell_type": "code",
      "source": [
        "price"
      ],
      "metadata": {
        "colab": {
          "base_uri": "https://localhost:8080/"
        },
        "id": "Q2N1sgaKcBbh",
        "outputId": "6c2342bf-40e6-4a7c-d793-f0b3484d251a"
      },
      "execution_count": 74,
      "outputs": [
        {
          "output_type": "execute_result",
          "data": {
            "text/plain": [
              "array([10002.04824707,  9894.91863231,  9863.58954987,  9757.55534732,\n",
              "        9669.17882335,  9684.82955139,  9834.88795889,  9782.82496616,\n",
              "        9923.85344624,  9939.69569381,  9907.08687415,  9793.6404854 ,\n",
              "        9816.10576592,  9961.22137616, 10080.43461418, 10074.10068034,\n",
              "       10140.96878166, 10231.98186642, 10234.78896278, 10150.33855226,\n",
              "       10060.58827906, 10041.83285926, 10105.458296  , 10035.76262468,\n",
              "       10153.15381196, 10082.52740693,  9979.1220635 ,  9826.40310349,\n",
              "        9830.16818927,  9798.31234161,  9815.49312111, 10024.25907495,\n",
              "       10172.5453541 , 10147.72286129, 10137.70305862, 10062.91486019,\n",
              "       10065.01001957, 10016.76869537,  9988.46049158,  9899.11688132,\n",
              "        9836.8653124 ,  9770.61752685,  9867.0943155 ,  9890.74403074,\n",
              "        9898.04260768,  9966.56971985, 10045.70977376,  9884.4157225 ,\n",
              "       10015.74357925,  9901.00571282,  9929.0174354 ,  9918.75169291,\n",
              "        9874.55215109,  9854.78073718,  9835.12775164,  9705.67375546,\n",
              "        9697.69796513,  9730.33403883,  9599.53992957,  9769.13636808,\n",
              "        9735.16114149,  9550.2160535 ,  9515.42562406,  9487.96059376,\n",
              "        9702.14401806,  9690.2751039 ,  9710.68424321,  9635.7976712 ,\n",
              "        9779.53399043,  9730.42719943,  9764.30106218,  9665.44152232,\n",
              "        9791.83703486,  9750.51314507,  9632.48390722,  9626.78258099,\n",
              "        9755.13909151,  9766.11313939,  9805.76317543,  9920.93045442,\n",
              "        9952.77687239,  9908.92528812,  9734.45126754,  9826.77829623,\n",
              "        9900.93630208,  9901.2539299 ,  9812.43389244,  9777.34325733,\n",
              "        9718.49926342,  9790.6310915 ,  9868.74519799,  9790.6047261 ,\n",
              "        9772.70782963,  9791.75446158,  9834.05389308,  9900.11531681,\n",
              "        9963.57073176,  9921.91430962, 10035.91321337, 10030.72313641,\n",
              "       10104.88436657, 10112.68990354,  9960.97582836,  9824.08825727,\n",
              "        9931.74400072,  9921.25848823,  9825.77954303,  9979.10624846,\n",
              "        9972.10606832,  9993.34861748,  9939.94152405,  9983.89327239,\n",
              "        9898.09203969,  9992.58856761,  9948.90498059,  9794.69390461,\n",
              "        9769.81985291,  9677.98269074,  9711.24029262,  9662.18068308,\n",
              "        9542.26863376,  9503.58356558,  9503.30879801,  9247.24356199,\n",
              "        9065.73176962,  8901.97142072,  8848.0880877 ,  8858.21120562,\n",
              "        8886.10771065,  8893.25310117,  9025.14391185,  8900.60845907,\n",
              "        8772.96011047,  8804.20996186,  8652.87970418,  8721.06186425,\n",
              "        8781.9189736 ,  8910.18781364,  8853.98935679,  8714.57672904,\n",
              "        8632.28694137,  8692.81947427,  8639.74298274,  8713.11401868,\n",
              "        8576.5531532 ,  8734.73584105,  8661.44569224,  8626.7211374 ,\n",
              "        8547.86363357,  8743.05508913,  8790.79889997,  8709.78468793,\n",
              "        8632.35049029,  8626.21935158,  8605.46689697,  8606.10160822,\n",
              "        8491.15737264,  8486.70365719,  8513.78155189,  8659.8853622 ,\n",
              "        8799.46153284,  8807.23930231,  8791.64446344,  8856.16577902,\n",
              "        8933.02125329,  8919.55553466,  8816.56954092,  8674.23824118,\n",
              "        8548.17855825,  8460.86030796,  8523.27049948,  8550.54485954,\n",
              "        8643.9756184 ,  8575.31151565,  8638.23031343,  8696.12530447,\n",
              "        8739.72329768,  8699.85924343,  8703.38726858,  8783.6425124 ,\n",
              "        8632.54497965,  8641.93772568,  8597.23913396,  8398.76764339,\n",
              "        8483.8015394 ,  8540.19370497,  8545.15460791,  8461.08580478,\n",
              "        8452.91736421,  8448.6852912 ,  8489.637577  ,  8537.3205722 ,\n",
              "        8620.6665399 ,  8642.79593385,  8638.46311483,  8743.30192508,\n",
              "        8808.064309  ,  8813.45531222,  8789.82053576,  8845.36491759,\n",
              "        8805.50944339,  8792.05569974,  8838.53451076,  8890.66617129,\n",
              "        8912.83992094,  8909.80151582,  8828.13324347,  8883.73235428,\n",
              "        8989.52522775,  9035.76949035,  9047.94783107,  9158.66645762,\n",
              "        9194.93444261,  9435.48002009,  9411.43040563,  9355.35085836,\n",
              "        9364.41362325,  9245.40195666,  9071.99127932,  9102.54355163,\n",
              "        8960.03827815,  9129.14276294,  9062.61327914,  9080.8314664 ,\n",
              "        9013.04340298,  9130.15834285,  9071.61552984,  9024.40865298,\n",
              "        8992.92882921,  8991.75303267,  8903.51000237,  8774.3535845 ,\n",
              "        8802.44526761,  8956.20735894,  8992.68819786,  9020.67169383,\n",
              "        9047.71219322,  9101.24118215,  9086.21217058,  9038.52340855,\n",
              "        9123.41115138,  8978.46322012,  9124.55110622,  9104.60903548,\n",
              "        9017.49873451,  9024.88576976,  9134.8304651 ,  8987.63871285,\n",
              "        9099.67166287,  9124.29296061])"
            ]
          },
          "metadata": {},
          "execution_count": 74
        }
      ]
    },
    {
      "cell_type": "markdown",
      "source": [],
      "metadata": {
        "id": "7fFV64BEb_-6"
      }
    },
    {
      "cell_type": "markdown",
      "source": [
        "## 정수 데이터 카운팅\n",
        "* 만약 난수가 정수값이면 unique 명령이나 bincount 명령으로 데이터 값을 분석"
      ],
      "metadata": {
        "id": "zc2junJdO2d8"
      }
    },
    {
      "cell_type": "markdown",
      "source": [
        "### `unique`\n",
        "* unique 함수는 데이터에서 중복된 값을 제거하고 중복되지 않는 값의 리스트를 출력\n",
        "* return_counts 인수를 True 로 설정하면 각 값을 가진 데이터 갯수도 출력\n"
      ],
      "metadata": {
        "id": "NQWG8zU8PJtG"
      }
    },
    {
      "cell_type": "code",
      "source": [
        "np.unique([11, 11, 2, 2, 34, 34])"
      ],
      "metadata": {
        "colab": {
          "base_uri": "https://localhost:8080/"
        },
        "id": "Zy46ohsVPDJv",
        "outputId": "0a77d73e-3415-4c00-a394-7605df66a048"
      },
      "execution_count": 77,
      "outputs": [
        {
          "output_type": "execute_result",
          "data": {
            "text/plain": [
              "array([ 2, 11, 34])"
            ]
          },
          "metadata": {},
          "execution_count": 77
        }
      ]
    },
    {
      "cell_type": "code",
      "source": [
        "a = np.array(list('abca'))\n",
        "a"
      ],
      "metadata": {
        "id": "9l5BuLbwPPQF",
        "colab": {
          "base_uri": "https://localhost:8080/"
        },
        "outputId": "1ab345f4-9e64-4ae0-939f-309fb935a88c"
      },
      "execution_count": 79,
      "outputs": [
        {
          "output_type": "execute_result",
          "data": {
            "text/plain": [
              "array(['a', 'b', 'c', 'a'], dtype='<U1')"
            ]
          },
          "metadata": {},
          "execution_count": 79
        }
      ]
    },
    {
      "cell_type": "code",
      "source": [
        "np.unique(a, return_counts=True)"
      ],
      "metadata": {
        "colab": {
          "base_uri": "https://localhost:8080/"
        },
        "id": "kMLRdBasPQ4L",
        "outputId": "62b939ab-741f-4a77-a146-1475a4a7d3a8"
      },
      "execution_count": 81,
      "outputs": [
        {
          "output_type": "execute_result",
          "data": {
            "text/plain": [
              "(array(['a', 'b', 'c'], dtype='<U1'), array([2, 1, 1]))"
            ]
          },
          "metadata": {},
          "execution_count": 81
        }
      ]
    },
    {
      "cell_type": "code",
      "source": [
        "index, value = np.unique(a, return_counts=True)\n",
        "index, value"
      ],
      "metadata": {
        "colab": {
          "base_uri": "https://localhost:8080/"
        },
        "id": "Kpx6OGmoPRi1",
        "outputId": "20308921-aafa-4cc1-c8b3-1bbdecf642c7"
      },
      "execution_count": 83,
      "outputs": [
        {
          "output_type": "execute_result",
          "data": {
            "text/plain": [
              "(array(['a', 'b', 'c'], dtype='<U1'), array([2, 1, 1]))"
            ]
          },
          "metadata": {},
          "execution_count": 83
        }
      ]
    },
    {
      "cell_type": "code",
      "source": [
        "# dict(np.unique(a, return_counts=True))"
      ],
      "metadata": {
        "id": "9TcSk8IxdRDn"
      },
      "execution_count": 86,
      "outputs": []
    },
    {
      "cell_type": "code",
      "source": [
        "index, value"
      ],
      "metadata": {
        "colab": {
          "base_uri": "https://localhost:8080/"
        },
        "id": "-lBiMkuDd27m",
        "outputId": "27e7227b-4360-468e-c7ab-e7e984ba1b30"
      },
      "execution_count": 87,
      "outputs": [
        {
          "output_type": "execute_result",
          "data": {
            "text/plain": [
              "(array(['a', 'b', 'c'], dtype='<U1'), array([2, 1, 1]))"
            ]
          },
          "metadata": {},
          "execution_count": 87
        }
      ]
    },
    {
      "cell_type": "code",
      "source": [
        "list(zip(index, value))  # 같은 인덱스에 있는 값끼리 튜플화시켜서 묶어줌\n",
        "# index, value == *np.unique(a, return_counts=True)"
      ],
      "metadata": {
        "colab": {
          "base_uri": "https://localhost:8080/"
        },
        "id": "xoYy0njAdTGW",
        "outputId": "5387a496-c35d-432b-efaa-c677e8ca4e9f"
      },
      "execution_count": 88,
      "outputs": [
        {
          "output_type": "execute_result",
          "data": {
            "text/plain": [
              "[('a', 2), ('b', 1), ('c', 1)]"
            ]
          },
          "metadata": {},
          "execution_count": 88
        }
      ]
    },
    {
      "cell_type": "code",
      "source": [
        "dict(zip(*np.unique(a, return_counts=True)))  # key, value"
      ],
      "metadata": {
        "colab": {
          "base_uri": "https://localhost:8080/"
        },
        "id": "Nz2EL3_ddlBL",
        "outputId": "d2dae7e9-5a29-4653-f2e1-718ff05b123e"
      },
      "execution_count": 89,
      "outputs": [
        {
          "output_type": "execute_result",
          "data": {
            "text/plain": [
              "{'a': 2, 'b': 1, 'c': 1}"
            ]
          },
          "metadata": {},
          "execution_count": 89
        }
      ]
    },
    {
      "cell_type": "markdown",
      "source": [
        "### `bincount`\n",
        "* `unique` 함수는 데이터에 존재하는 값에 대해서만 갯수를 세므로 데이터 값이 나올 수 있음에도 불구하고 데이터가 하나도 없는 경우에는 정보를 주지 않음\n",
        "* 따라서 데이터가 주사위를 던졌을 때 나오는 수처럼 특정 범위안의 수인 경우에는 `bincount` 함수에 `minlength` 인수를 설정하여 쓰는 것이 더 편리\n",
        "* `bincount` 함수는 0 부터 `minlength` - 1 까지의 숫자에 대해 각각 카운트\n",
        "* 데이터가 없을 경우에는 카운트 값이 0이 됨"
      ],
      "metadata": {
        "id": "GihAHqezPWii"
      }
    },
    {
      "cell_type": "code",
      "source": [
        "np.bincount([1, 1, 2, 2, 2, 3], minlength=6) # 1 = 2, 2 = 3, 3 = 1"
      ],
      "metadata": {
        "id": "i7yuJVK0eSlr"
      },
      "execution_count": null,
      "outputs": []
    }
  ]
}