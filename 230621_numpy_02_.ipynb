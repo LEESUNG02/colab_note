{
  "nbformat": 4,
  "nbformat_minor": 0,
  "metadata": {
    "colab": {
      "provenance": [],
      "include_colab_link": true
    },
    "kernelspec": {
      "name": "python3",
      "display_name": "Python 3"
    },
    "language_info": {
      "name": "python"
    }
  },
  "cells": [
    {
      "cell_type": "markdown",
      "metadata": {
        "id": "view-in-github",
        "colab_type": "text"
      },
      "source": [
        "<a href=\"https://colab.research.google.com/github/LEESUNG02/colab_note/blob/main/230621_numpy_02_.ipynb\" target=\"_parent\"><img src=\"https://colab.research.google.com/assets/colab-badge.svg\" alt=\"Open In Colab\"/></a>"
      ]
    },
    {
      "cell_type": "code",
      "execution_count": 2,
      "metadata": {
        "id": "49i5_ibZQgLO"
      },
      "outputs": [],
      "source": [
        "import numpy as np"
      ]
    },
    {
      "cell_type": "code",
      "source": [
        "#@title 백터와 연산\n",
        "x = np.arange(1, 10001)\n",
        "y = np.arange(10001, 20001)\n",
        "x, y"
      ],
      "metadata": {
        "id": "1D66PVKue9Oy",
        "outputId": "696a2963-b262-475e-a6b4-fb568cced4e0",
        "colab": {
          "base_uri": "https://localhost:8080/"
        }
      },
      "execution_count": 3,
      "outputs": [
        {
          "output_type": "execute_result",
          "data": {
            "text/plain": [
              "(array([    1,     2,     3, ...,  9998,  9999, 10000]),\n",
              " array([10001, 10002, 10003, ..., 19998, 19999, 20000]))"
            ]
          },
          "metadata": {},
          "execution_count": 3
        }
      ]
    },
    {
      "cell_type": "code",
      "source": [
        "z = x + y\n",
        "z"
      ],
      "metadata": {
        "id": "OGf1jEVxfcJW",
        "outputId": "f5d9eb9f-e05c-4d3e-85de-167f20198362",
        "colab": {
          "base_uri": "https://localhost:8080/"
        }
      },
      "execution_count": 4,
      "outputs": [
        {
          "output_type": "execute_result",
          "data": {
            "text/plain": [
              "array([10002, 10004, 10006, ..., 29996, 29998, 30000])"
            ]
          },
          "metadata": {},
          "execution_count": 4
        }
      ]
    },
    {
      "cell_type": "code",
      "source": [
        "x == y\n"
      ],
      "metadata": {
        "id": "mX3Ycx93fc4m",
        "outputId": "6ac63429-0b52-4b8e-b571-f6506746ceba",
        "colab": {
          "base_uri": "https://localhost:8080/"
        }
      },
      "execution_count": 5,
      "outputs": [
        {
          "output_type": "execute_result",
          "data": {
            "text/plain": [
              "array([False, False, False, ..., False, False, False])"
            ]
          },
          "metadata": {},
          "execution_count": 5
        }
      ]
    },
    {
      "cell_type": "code",
      "source": [
        "(x == y) | (x < y)"
      ],
      "metadata": {
        "id": "pAd1N104fdk6",
        "outputId": "2f68372a-edac-4261-f36a-ff0f25827359",
        "colab": {
          "base_uri": "https://localhost:8080/"
        }
      },
      "execution_count": 8,
      "outputs": [
        {
          "output_type": "execute_result",
          "data": {
            "text/plain": [
              "array([ True,  True,  True, ...,  True,  True,  True])"
            ]
          },
          "metadata": {},
          "execution_count": 8
        }
      ]
    },
    {
      "cell_type": "code",
      "source": [
        "a = np.arange(1, 5)\n",
        "a"
      ],
      "metadata": {
        "id": "PVAPDl9ffewy",
        "outputId": "a2511efc-8e89-47bd-de5b-148b23cca742",
        "colab": {
          "base_uri": "https://localhost:8080/"
        }
      },
      "execution_count": 9,
      "outputs": [
        {
          "output_type": "execute_result",
          "data": {
            "text/plain": [
              "array([1, 2, 3, 4])"
            ]
          },
          "metadata": {},
          "execution_count": 9
        }
      ]
    },
    {
      "cell_type": "code",
      "source": [
        "np.exp(a)"
      ],
      "metadata": {
        "id": "ZeJefsdjfo5-",
        "outputId": "90602bf8-6aaf-4e8b-ada1-d97891a17ddf",
        "colab": {
          "base_uri": "https://localhost:8080/"
        }
      },
      "execution_count": 10,
      "outputs": [
        {
          "output_type": "execute_result",
          "data": {
            "text/plain": [
              "array([ 2.71828183,  7.3890561 , 20.08553692, 54.59815003])"
            ]
          },
          "metadata": {},
          "execution_count": 10
        }
      ]
    },
    {
      "cell_type": "code",
      "source": [
        "10 ** a"
      ],
      "metadata": {
        "id": "Cqdutzegfhn6",
        "outputId": "dd6fbb03-62fa-43af-d8ca-eef587ef465d",
        "colab": {
          "base_uri": "https://localhost:8080/"
        }
      },
      "execution_count": 11,
      "outputs": [
        {
          "output_type": "execute_result",
          "data": {
            "text/plain": [
              "array([   10,   100,  1000, 10000])"
            ]
          },
          "metadata": {},
          "execution_count": 11
        }
      ]
    },
    {
      "cell_type": "code",
      "source": [
        "np.log(a)"
      ],
      "metadata": {
        "id": "OdevSZ6gfsDj",
        "outputId": "e2e9de6b-2d8d-42f3-ca1d-bdc39804fa97",
        "colab": {
          "base_uri": "https://localhost:8080/"
        }
      },
      "execution_count": 12,
      "outputs": [
        {
          "output_type": "execute_result",
          "data": {
            "text/plain": [
              "array([0.        , 0.69314718, 1.09861229, 1.38629436])"
            ]
          },
          "metadata": {},
          "execution_count": 12
        }
      ]
    },
    {
      "cell_type": "code",
      "source": [
        "#@title 스칼라/백터\n",
        "x = np.arange(10)\n",
        "x= x.ndim, x.shape"
      ],
      "metadata": {
        "id": "glA0PiV7ft77"
      },
      "execution_count": 15,
      "outputs": []
    },
    {
      "cell_type": "code",
      "source": [
        "x * 100 # -> 100 -> x라는 배열의 모양에 맞춰서 변형"
      ],
      "metadata": {
        "id": "w1TiVuWlf5ca",
        "outputId": "e72c4c76-2d0b-4cde-f50b-104541d5e50a",
        "colab": {
          "base_uri": "https://localhost:8080/"
        }
      },
      "execution_count": 16,
      "outputs": [
        {
          "output_type": "execute_result",
          "data": {
            "text/plain": [
              "(1,\n",
              " (10,),\n",
              " 1,\n",
              " (10,),\n",
              " 1,\n",
              " (10,),\n",
              " 1,\n",
              " (10,),\n",
              " 1,\n",
              " (10,),\n",
              " 1,\n",
              " (10,),\n",
              " 1,\n",
              " (10,),\n",
              " 1,\n",
              " (10,),\n",
              " 1,\n",
              " (10,),\n",
              " 1,\n",
              " (10,),\n",
              " 1,\n",
              " (10,),\n",
              " 1,\n",
              " (10,),\n",
              " 1,\n",
              " (10,),\n",
              " 1,\n",
              " (10,),\n",
              " 1,\n",
              " (10,),\n",
              " 1,\n",
              " (10,),\n",
              " 1,\n",
              " (10,),\n",
              " 1,\n",
              " (10,),\n",
              " 1,\n",
              " (10,),\n",
              " 1,\n",
              " (10,),\n",
              " 1,\n",
              " (10,),\n",
              " 1,\n",
              " (10,),\n",
              " 1,\n",
              " (10,),\n",
              " 1,\n",
              " (10,),\n",
              " 1,\n",
              " (10,),\n",
              " 1,\n",
              " (10,),\n",
              " 1,\n",
              " (10,),\n",
              " 1,\n",
              " (10,),\n",
              " 1,\n",
              " (10,),\n",
              " 1,\n",
              " (10,),\n",
              " 1,\n",
              " (10,),\n",
              " 1,\n",
              " (10,),\n",
              " 1,\n",
              " (10,),\n",
              " 1,\n",
              " (10,),\n",
              " 1,\n",
              " (10,),\n",
              " 1,\n",
              " (10,),\n",
              " 1,\n",
              " (10,),\n",
              " 1,\n",
              " (10,),\n",
              " 1,\n",
              " (10,),\n",
              " 1,\n",
              " (10,),\n",
              " 1,\n",
              " (10,),\n",
              " 1,\n",
              " (10,),\n",
              " 1,\n",
              " (10,),\n",
              " 1,\n",
              " (10,),\n",
              " 1,\n",
              " (10,),\n",
              " 1,\n",
              " (10,),\n",
              " 1,\n",
              " (10,),\n",
              " 1,\n",
              " (10,),\n",
              " 1,\n",
              " (10,),\n",
              " 1,\n",
              " (10,),\n",
              " 1,\n",
              " (10,),\n",
              " 1,\n",
              " (10,),\n",
              " 1,\n",
              " (10,),\n",
              " 1,\n",
              " (10,),\n",
              " 1,\n",
              " (10,),\n",
              " 1,\n",
              " (10,),\n",
              " 1,\n",
              " (10,),\n",
              " 1,\n",
              " (10,),\n",
              " 1,\n",
              " (10,),\n",
              " 1,\n",
              " (10,),\n",
              " 1,\n",
              " (10,),\n",
              " 1,\n",
              " (10,),\n",
              " 1,\n",
              " (10,),\n",
              " 1,\n",
              " (10,),\n",
              " 1,\n",
              " (10,),\n",
              " 1,\n",
              " (10,),\n",
              " 1,\n",
              " (10,),\n",
              " 1,\n",
              " (10,),\n",
              " 1,\n",
              " (10,),\n",
              " 1,\n",
              " (10,),\n",
              " 1,\n",
              " (10,),\n",
              " 1,\n",
              " (10,),\n",
              " 1,\n",
              " (10,),\n",
              " 1,\n",
              " (10,),\n",
              " 1,\n",
              " (10,),\n",
              " 1,\n",
              " (10,),\n",
              " 1,\n",
              " (10,),\n",
              " 1,\n",
              " (10,),\n",
              " 1,\n",
              " (10,),\n",
              " 1,\n",
              " (10,),\n",
              " 1,\n",
              " (10,),\n",
              " 1,\n",
              " (10,),\n",
              " 1,\n",
              " (10,),\n",
              " 1,\n",
              " (10,),\n",
              " 1,\n",
              " (10,),\n",
              " 1,\n",
              " (10,),\n",
              " 1,\n",
              " (10,),\n",
              " 1,\n",
              " (10,),\n",
              " 1,\n",
              " (10,),\n",
              " 1,\n",
              " (10,),\n",
              " 1,\n",
              " (10,),\n",
              " 1,\n",
              " (10,),\n",
              " 1,\n",
              " (10,),\n",
              " 1,\n",
              " (10,),\n",
              " 1,\n",
              " (10,),\n",
              " 1,\n",
              " (10,),\n",
              " 1,\n",
              " (10,),\n",
              " 1,\n",
              " (10,),\n",
              " 1,\n",
              " (10,),\n",
              " 1,\n",
              " (10,))"
            ]
          },
          "metadata": {},
          "execution_count": 16
        }
      ]
    },
    {
      "cell_type": "code",
      "source": [
        "x = np.arange(12).reshape(-1, 4)\n",
        "x, x.ndim, x.shape"
      ],
      "metadata": {
        "id": "-nuauc3ygOqy",
        "outputId": "e0582ac1-7c5c-4bca-88ea-d1eb047135ed",
        "colab": {
          "base_uri": "https://localhost:8080/"
        }
      },
      "execution_count": 18,
      "outputs": [
        {
          "output_type": "execute_result",
          "data": {
            "text/plain": [
              "(array([[ 0,  1,  2,  3],\n",
              "        [ 4,  5,  6,  7],\n",
              "        [ 8,  9, 10, 11]]),\n",
              " 2,\n",
              " (3, 4))"
            ]
          },
          "metadata": {},
          "execution_count": 18
        }
      ]
    },
    {
      "cell_type": "code",
      "source": [
        "x * 100"
      ],
      "metadata": {
        "id": "7Pli3fkDgRHd",
        "outputId": "6812a911-94be-4873-b7b8-0442702c970e",
        "colab": {
          "base_uri": "https://localhost:8080/"
        }
      },
      "execution_count": 19,
      "outputs": [
        {
          "output_type": "execute_result",
          "data": {
            "text/plain": [
              "array([[   0,  100,  200,  300],\n",
              "       [ 400,  500,  600,  700],\n",
              "       [ 800,  900, 1000, 1100]])"
            ]
          },
          "metadata": {},
          "execution_count": 19
        }
      ]
    },
    {
      "cell_type": "code",
      "source": [
        "#@title 브로드캐스팅\n",
        "x = np.arange(5)\n",
        "x"
      ],
      "metadata": {
        "id": "2Eesovl7gRiZ",
        "outputId": "09574fe5-951c-45b4-fc3c-030348afed37",
        "colab": {
          "base_uri": "https://localhost:8080/"
        }
      },
      "execution_count": 22,
      "outputs": [
        {
          "output_type": "execute_result",
          "data": {
            "text/plain": [
              "array([0, 1, 2, 3, 4])"
            ]
          },
          "metadata": {},
          "execution_count": 22
        }
      ]
    },
    {
      "cell_type": "code",
      "source": [
        "x + 1, x+2, x-3"
      ],
      "metadata": {
        "id": "HkdD2VGcgdNl",
        "outputId": "cc3fd298-4404-4600-cda1-3043bd4c425d",
        "colab": {
          "base_uri": "https://localhost:8080/"
        }
      },
      "execution_count": 24,
      "outputs": [
        {
          "output_type": "execute_result",
          "data": {
            "text/plain": [
              "(array([1, 2, 3, 4, 5]), array([2, 3, 4, 5, 6]), array([-3, -2, -1,  0,  1]))"
            ]
          },
          "metadata": {},
          "execution_count": 24
        }
      ]
    },
    {
      "cell_type": "code",
      "source": [
        "x = np.arange(15).reshape(5, -1)\n",
        "x"
      ],
      "metadata": {
        "id": "dJB2iptrghiO",
        "outputId": "6b0d2667-8681-4db9-a120-282c85ed751a",
        "colab": {
          "base_uri": "https://localhost:8080/"
        }
      },
      "execution_count": 26,
      "outputs": [
        {
          "output_type": "execute_result",
          "data": {
            "text/plain": [
              "array([[ 0,  1,  2],\n",
              "       [ 3,  4,  5],\n",
              "       [ 6,  7,  8],\n",
              "       [ 9, 10, 11],\n",
              "       [12, 13, 14]])"
            ]
          },
          "metadata": {},
          "execution_count": 26
        }
      ]
    },
    {
      "cell_type": "code",
      "source": [
        "y = np.arange(5)\n",
        "y"
      ],
      "metadata": {
        "id": "huFVQQBKguCh",
        "outputId": "6d29f2b2-84a3-459b-9213-682dd59d9319",
        "colab": {
          "base_uri": "https://localhost:8080/"
        }
      },
      "execution_count": 27,
      "outputs": [
        {
          "output_type": "execute_result",
          "data": {
            "text/plain": [
              "array([0, 1, 2, 3, 4])"
            ]
          },
          "metadata": {},
          "execution_count": 27
        }
      ]
    },
    {
      "cell_type": "code",
      "source": [
        "# x+y -> 차원이 달라서 불가\n",
        "y2 = y[:, np.newaxis]\n",
        "y2, y2.shape  # -> 차원을 맞춰주면 가능\n"
      ],
      "metadata": {
        "id": "xsb7wtXMgzzf",
        "outputId": "cb21bb2f-aceb-46bd-fbfd-ad87b3e5b003",
        "colab": {
          "base_uri": "https://localhost:8080/"
        }
      },
      "execution_count": 29,
      "outputs": [
        {
          "output_type": "execute_result",
          "data": {
            "text/plain": [
              "(array([[0],\n",
              "        [1],\n",
              "        [2],\n",
              "        [3],\n",
              "        [4]]),\n",
              " (5, 1))"
            ]
          },
          "metadata": {},
          "execution_count": 29
        }
      ]
    },
    {
      "cell_type": "code",
      "source": [
        "x + y2 # y2 -> 짧았음 -> 1열 -> 3열 (반복확장)"
      ],
      "metadata": {
        "id": "wE87CD_nhDLk",
        "outputId": "4ad267bf-e864-4e57-b2d5-26b25b9dcf7d",
        "colab": {
          "base_uri": "https://localhost:8080/"
        }
      },
      "execution_count": 30,
      "outputs": [
        {
          "output_type": "execute_result",
          "data": {
            "text/plain": [
              "array([[ 0,  1,  2],\n",
              "       [ 4,  5,  6],\n",
              "       [ 8,  9, 10],\n",
              "       [12, 13, 14],\n",
              "       [16, 17, 18]])"
            ]
          },
          "metadata": {},
          "execution_count": 30
        }
      ]
    },
    {
      "cell_type": "code",
      "source": [
        "#@title 차원 축소 연산\n",
        "x =  np.random.randint(0, 100, 6)\n",
        "x"
      ],
      "metadata": {
        "id": "npOB3Aj1g8fa",
        "outputId": "0a012c9c-823c-4e70-de75-3517389c2b83",
        "colab": {
          "base_uri": "https://localhost:8080/"
        }
      },
      "execution_count": 53,
      "outputs": [
        {
          "output_type": "execute_result",
          "data": {
            "text/plain": [
              "array([34, 46, 31, 95, 48, 56])"
            ]
          },
          "metadata": {},
          "execution_count": 53
        }
      ]
    },
    {
      "cell_type": "code",
      "source": [
        "print(np.sum(x), x.sum())\n",
        "print(np.max(x), x.max())  # 최대\n",
        "print(np.min(x), x.min())  # 최소\n",
        "print(np.argmax(x), x.argmax())  # 최대 -> 인덱스\n",
        "print(np.argmin(x), x.argmin())  # 최소 -> 인덱스\n",
        "print(np.mean(x), x.mean(), np.sum(x) / len(x))  # 평균\n",
        "print(np.median(x))  # 중간값 -> 짝수개 -> 평균\n",
        "print(np.all(x > 50), (x > 50).all())  # 모두 True인지\n",
        "print(np.any(x > 50), (x > 50).any())  # 1개 이상 True인지"
      ],
      "metadata": {
        "id": "BBxlVN-HhwOk",
        "outputId": "96100382-a303-470a-94d0-ae52935eed49",
        "colab": {
          "base_uri": "https://localhost:8080/"
        }
      },
      "execution_count": 54,
      "outputs": [
        {
          "output_type": "stream",
          "name": "stdout",
          "text": [
            "310 310\n",
            "95 95\n",
            "31 31\n",
            "3 3\n",
            "2 2\n",
            "51.666666666666664 51.666666666666664 51.666666666666664\n",
            "47.0\n",
            "False False\n",
            "True True\n"
          ]
        }
      ]
    },
    {
      "cell_type": "code",
      "source": [
        "x = np.random.randint(0, 100, 6).reshape(2, -1)\n",
        "x"
      ],
      "metadata": {
        "id": "bFViHO_xi8J0",
        "outputId": "4dd803c9-0f1c-46a9-c894-e26f90494300",
        "colab": {
          "base_uri": "https://localhost:8080/"
        }
      },
      "execution_count": 55,
      "outputs": [
        {
          "output_type": "execute_result",
          "data": {
            "text/plain": [
              "array([[30, 88, 14],\n",
              "       [ 4,  1, 78]])"
            ]
          },
          "metadata": {},
          "execution_count": 55
        }
      ]
    },
    {
      "cell_type": "code",
      "source": [
        "print(x.sum(), x.sum(axis=None))\n",
        "print(x.sum(axis=0))  # 같은 행을 합쳐주겠다 -> 열 모양\n",
        "print(x.sum(axis=1))  # 같은 열을 합쳐주겠다 -> 행 모양"
      ],
      "metadata": {
        "id": "ecy1dXiqjSoC",
        "outputId": "c1834076-cf07-4eb0-ea7c-bc3ac3c6ab1f",
        "colab": {
          "base_uri": "https://localhost:8080/"
        }
      },
      "execution_count": 56,
      "outputs": [
        {
          "output_type": "stream",
          "name": "stdout",
          "text": [
            "215 215\n",
            "[34 89 92]\n",
            "[132  83]\n"
          ]
        }
      ]
    },
    {
      "cell_type": "code",
      "source": [
        "x"
      ],
      "metadata": {
        "id": "vozDiDV9jbwm",
        "outputId": "ec981030-9c37-4748-90c0-dc3f218ff4c7",
        "colab": {
          "base_uri": "https://localhost:8080/"
        }
      },
      "execution_count": 57,
      "outputs": [
        {
          "output_type": "execute_result",
          "data": {
            "text/plain": [
              "array([[30, 88, 14],\n",
              "       [ 4,  1, 78]])"
            ]
          },
          "metadata": {},
          "execution_count": 57
        }
      ]
    },
    {
      "cell_type": "code",
      "source": [
        "np.sort(x), np.sort(x, axis=-1), np.sort(x, axis=1) # ndim-1 차원"
      ],
      "metadata": {
        "id": "BLl28m8jjepa",
        "outputId": "4b1f047e-c9b9-4694-cd96-ab87493224b2",
        "colab": {
          "base_uri": "https://localhost:8080/"
        }
      },
      "execution_count": 59,
      "outputs": [
        {
          "output_type": "execute_result",
          "data": {
            "text/plain": [
              "(array([[14, 30, 88],\n",
              "        [ 1,  4, 78]]),\n",
              " array([[14, 30, 88],\n",
              "        [ 1,  4, 78]]),\n",
              " array([[14, 30, 88],\n",
              "        [ 1,  4, 78]]))"
            ]
          },
          "metadata": {},
          "execution_count": 59
        }
      ]
    },
    {
      "cell_type": "code",
      "source": [
        "np.sort(x, axis=0), np.sort(x, axis=0)[:,::-1]"
      ],
      "metadata": {
        "id": "cB8W52Ecj5li",
        "outputId": "9a2ee488-de3e-46b4-d779-bb652705797a",
        "colab": {
          "base_uri": "https://localhost:8080/"
        }
      },
      "execution_count": 61,
      "outputs": [
        {
          "output_type": "execute_result",
          "data": {
            "text/plain": [
              "(array([[ 4,  1, 14],\n",
              "        [30, 88, 78]]),\n",
              " array([[14,  1,  4],\n",
              "        [78, 88, 30]]))"
            ]
          },
          "metadata": {},
          "execution_count": 61
        }
      ]
    },
    {
      "cell_type": "code",
      "source": [
        "np.sort(x, axis=1), np.sort(x, axis=1)[::-1,:]"
      ],
      "metadata": {
        "id": "zBAbek_2jc3t",
        "outputId": "e0677b32-315b-4a6d-bc3b-54bd0ab3eae1",
        "colab": {
          "base_uri": "https://localhost:8080/"
        }
      },
      "execution_count": 62,
      "outputs": [
        {
          "output_type": "execute_result",
          "data": {
            "text/plain": [
              "(array([[14, 30, 88],\n",
              "        [ 1,  4, 78]]),\n",
              " array([[ 1,  4, 78],\n",
              "        [14, 30, 88]]))"
            ]
          },
          "metadata": {},
          "execution_count": 62
        }
      ]
    },
    {
      "cell_type": "code",
      "source": [
        "a.sort()\n",
        "a"
      ],
      "metadata": {
        "id": "AFNN1BBRkbzJ",
        "outputId": "063160d9-64d0-4931-db40-8749367224bd",
        "colab": {
          "base_uri": "https://localhost:8080/"
        }
      },
      "execution_count": 63,
      "outputs": [
        {
          "output_type": "execute_result",
          "data": {
            "text/plain": [
              "array([1, 2, 3, 4])"
            ]
          },
          "metadata": {},
          "execution_count": 63
        }
      ]
    },
    {
      "cell_type": "code",
      "source": [
        "np.argsort(a)"
      ],
      "metadata": {
        "id": "1vFvgzzEkdX2",
        "outputId": "9888ec8f-02d0-4bbb-e6a4-7039304363b9",
        "colab": {
          "base_uri": "https://localhost:8080/"
        }
      },
      "execution_count": 64,
      "outputs": [
        {
          "output_type": "execute_result",
          "data": {
            "text/plain": [
              "array([0, 1, 2, 3])"
            ]
          },
          "metadata": {},
          "execution_count": 64
        }
      ]
    },
    {
      "cell_type": "code",
      "source": [
        "#@title 기술 통계\n",
        "x = np.random.randint(-100, 100, 30)\n",
        "x"
      ],
      "metadata": {
        "id": "X4MBOzEykeJp",
        "outputId": "9ea4e05c-345c-4ec9-cb01-74c85a22c7e6",
        "colab": {
          "base_uri": "https://localhost:8080/"
        }
      },
      "execution_count": 72,
      "outputs": [
        {
          "output_type": "execute_result",
          "data": {
            "text/plain": [
              "array([ -59,  -40,  -37,   33,  -92,   74,  -66,    4,   47,   -3,  -25,\n",
              "         29,   81,   95,  -40,   48,   25,   92, -100,  -53,    9,  -31,\n",
              "        -14,   43,   23,   12,    1,   53,   76,   28])"
            ]
          },
          "metadata": {},
          "execution_count": 72
        }
      ]
    },
    {
      "cell_type": "code",
      "source": [
        "print(len(x))\n",
        "print(np.mean(x), x.mean())\n",
        "print(np. var(x), x.var())\n",
        "print(np.std(x), |x.std())\n",
        "print(np.max(x), x.max())\n",
        "print(np.min(x), x.min())\n",
        "print(np.median(x))\n",
        "print(np.percentile(x, 0))\n",
        "print(np.percentile(x, 25), np.percentile(x, 1 * 100 / 4))\n",
        "print(np.percentile(x, 50), np.percentile(x, 2 * 100 / 4))\n",
        "print(np.percentile(x, 75), np.percentile(x, 4 * 100 / 4))\n",
        "print(np.percentile(x, 100), np.percentile(x, 4 * 100 / 4))"
      ],
      "metadata": {
        "id": "p9FBnoLrku0F",
        "outputId": "ec3a8f80-91e7-45fe-aaa3-6e67b0b01857",
        "colab": {
          "base_uri": "https://localhost:8080/"
        }
      },
      "execution_count": 70,
      "outputs": [
        {
          "output_type": "stream",
          "name": "stdout",
          "text": [
            "30\n",
            "6.666666666666667 6.666666666666667\n",
            "3243.3555555555554 3243.3555555555554\n",
            "56.95046580630887 56.95046580630887\n",
            "86 86\n",
            "-97 -97\n",
            "15.0\n",
            "-97.0\n",
            "-35.0 -35.0\n",
            "15.0 15.0\n",
            "56.75 86.0\n",
            "86.0 86.0\n"
          ]
        }
      ]
    },
    {
      "cell_type": "code",
      "source": [
        "#@title 난수 발생\n",
        "np.random.seed(2023)"
      ],
      "metadata": {
        "id": "trbsmp4JlI_s"
      },
      "execution_count": 73,
      "outputs": []
    },
    {
      "cell_type": "code",
      "source": [
        "np.random.rand(5)"
      ],
      "metadata": {
        "id": "9hxvAcfWmCr2",
        "outputId": "42e27110-6766-4f62-f518-54d934cbc393",
        "colab": {
          "base_uri": "https://localhost:8080/"
        }
      },
      "execution_count": 74,
      "outputs": [
        {
          "output_type": "execute_result",
          "data": {
            "text/plain": [
              "array([0.3219883 , 0.89042245, 0.58805226, 0.12659609, 0.14134122])"
            ]
          },
          "metadata": {},
          "execution_count": 74
        }
      ]
    },
    {
      "cell_type": "code",
      "source": [
        "# np.random.rand((2,5))  # shape 직접 지정 안됨"
      ],
      "metadata": {
        "id": "no3C4OotmGnm"
      },
      "execution_count": 100,
      "outputs": []
    },
    {
      "cell_type": "code",
      "source": [
        "x = np.arange(10)\n",
        "x"
      ],
      "metadata": {
        "id": "fYw4bTWbmLNI",
        "outputId": "6be48a2a-7362-423e-ebbd-9f1d2674df07",
        "colab": {
          "base_uri": "https://localhost:8080/"
        }
      },
      "execution_count": 76,
      "outputs": [
        {
          "output_type": "execute_result",
          "data": {
            "text/plain": [
              "array([0, 1, 2, 3, 4, 5, 6, 7, 8, 9])"
            ]
          },
          "metadata": {},
          "execution_count": 76
        }
      ]
    },
    {
      "cell_type": "code",
      "source": [
        "np.random.shuffle(x)\n",
        "x"
      ],
      "metadata": {
        "id": "vd3sTf-amUI6",
        "outputId": "8bf41d04-7534-4cbe-d7ee-f9cfecd4b874",
        "colab": {
          "base_uri": "https://localhost:8080/"
        }
      },
      "execution_count": 77,
      "outputs": [
        {
          "output_type": "execute_result",
          "data": {
            "text/plain": [
              "array([7, 4, 3, 2, 8, 9, 1, 6, 0, 5])"
            ]
          },
          "metadata": {},
          "execution_count": 77
        }
      ]
    },
    {
      "cell_type": "code",
      "source": [
        "print(np.random.choice(5, 5, replace=False))\n",
        "print(np.random.choice(5, 3, replace=False))"
      ],
      "metadata": {
        "id": "9GF5iiHDmXzw",
        "outputId": "4287a20a-d8ce-49fd-e91b-3054198fb0b0",
        "colab": {
          "base_uri": "https://localhost:8080/"
        }
      },
      "execution_count": 80,
      "outputs": [
        {
          "output_type": "stream",
          "name": "stdout",
          "text": [
            "[3 4 0 2 1]\n",
            "[3 4 2]\n"
          ]
        }
      ]
    },
    {
      "cell_type": "code",
      "source": [
        "print(np.random.choice(5, 3, replace=True))\n",
        "print(np.random.choice(5, 10))"
      ],
      "metadata": {
        "id": "_K73oiQAmjt7",
        "outputId": "04d4d6ac-ed10-42a2-86b4-5a2e4f379d79",
        "colab": {
          "base_uri": "https://localhost:8080/"
        }
      },
      "execution_count": 81,
      "outputs": [
        {
          "output_type": "stream",
          "name": "stdout",
          "text": [
            "[0 1 0]\n",
            "[1 2 3 1 0 1 4 0 0 4]\n"
          ]
        }
      ]
    },
    {
      "cell_type": "code",
      "source": [
        "np.random.rand(10)"
      ],
      "metadata": {
        "id": "bKyvQ8Ugmu2G",
        "outputId": "8317382e-ac3d-418c-f697-8ce3775b9650",
        "colab": {
          "base_uri": "https://localhost:8080/"
        }
      },
      "execution_count": 82,
      "outputs": [
        {
          "output_type": "execute_result",
          "data": {
            "text/plain": [
              "array([0.26546361, 0.20533187, 0.40615836, 0.62311131, 0.80221535,\n",
              "       0.09702613, 0.81625998, 0.02808046, 0.01545164, 0.56690572])"
            ]
          },
          "metadata": {},
          "execution_count": 82
        }
      ]
    },
    {
      "cell_type": "code",
      "source": [
        "np.random.randn(10) # rand, randn -> shape (배열의 모양) (2, 3)"
      ],
      "metadata": {
        "id": "wco5pQ0xmy61",
        "outputId": "fc9b08e7-26d6-4462-f509-519f5d4c8904",
        "colab": {
          "base_uri": "https://localhost:8080/"
        }
      },
      "execution_count": 83,
      "outputs": [
        {
          "output_type": "execute_result",
          "data": {
            "text/plain": [
              "array([ 0.78604475,  0.17643234, -0.16326137, -0.09505149, -1.06584426,\n",
              "       -0.91283631, -0.66864652,  1.55496137, -1.47845086, -0.11497552])"
            ]
          },
          "metadata": {},
          "execution_count": 83
        }
      ]
    },
    {
      "cell_type": "code",
      "source": [
        "# 기대값 3, 표준편차 0.5\n",
        "np.random.randn(10) * 0.5 + 3"
      ],
      "metadata": {
        "id": "yRK8xHy-m7A_",
        "outputId": "abd8c16f-8b9d-40ee-9896-ee4f5ed29de4",
        "colab": {
          "base_uri": "https://localhost:8080/"
        }
      },
      "execution_count": 84,
      "outputs": [
        {
          "output_type": "execute_result",
          "data": {
            "text/plain": [
              "array([3.88938001, 3.59074486, 3.38436627, 2.42663623, 3.70916688,\n",
              "       2.55121923, 3.50435384, 2.61183864, 3.42062693, 3.5254669 ])"
            ]
          },
          "metadata": {},
          "execution_count": 84
        }
      ]
    },
    {
      "cell_type": "code",
      "source": [
        "np.random.randint(1, 10, 100)"
      ],
      "metadata": {
        "id": "JoRlgr9tnIRe",
        "outputId": "efd88eff-3ac0-4f73-b0dc-a1930f010cce",
        "colab": {
          "base_uri": "https://localhost:8080/"
        }
      },
      "execution_count": 87,
      "outputs": [
        {
          "output_type": "execute_result",
          "data": {
            "text/plain": [
              "array([6, 3, 6, 2, 3, 9, 7, 8, 7, 5, 9, 5, 4, 5, 8, 9, 8, 5, 5, 9, 7, 1,\n",
              "       9, 8, 2, 9, 2, 9, 1, 7, 7, 6, 6, 5, 4, 5, 7, 6, 5, 4, 2, 3, 4, 6,\n",
              "       8, 6, 3, 5, 1, 7, 4, 8, 6, 7, 4, 4, 1, 4, 5, 5, 6, 8, 4, 9, 2, 4,\n",
              "       9, 2, 4, 4, 4, 2, 8, 8, 2, 5, 9, 3, 5, 2, 4, 8, 8, 3, 3, 9, 7, 8,\n",
              "       7, 5, 6, 9, 4, 6, 8, 1, 1, 7, 6, 1])"
            ]
          },
          "metadata": {},
          "execution_count": 87
        }
      ]
    },
    {
      "cell_type": "code",
      "source": [
        "r = np.random.randint(1, 10, 100)\n",
        "r"
      ],
      "metadata": {
        "id": "hiluNoIVnOAM",
        "outputId": "047852d7-de2c-4f5b-f675-5ba85ee98e16",
        "colab": {
          "base_uri": "https://localhost:8080/"
        }
      },
      "execution_count": 89,
      "outputs": [
        {
          "output_type": "execute_result",
          "data": {
            "text/plain": [
              "array([9, 9, 1, 9, 8, 7, 2, 9, 9, 5, 3, 9, 4, 9, 2, 3, 9, 1, 4, 6, 3, 4,\n",
              "       8, 2, 9, 8, 8, 4, 9, 9, 3, 1, 5, 2, 7, 3, 9, 7, 5, 8, 3, 8, 6, 9,\n",
              "       2, 2, 7, 3, 9, 7, 8, 6, 2, 6, 6, 8, 2, 6, 7, 6, 5, 9, 4, 6, 8, 2,\n",
              "       9, 9, 4, 5, 1, 2, 5, 7, 6, 8, 9, 2, 8, 4, 3, 3, 9, 3, 5, 3, 3, 3,\n",
              "       9, 1, 4, 8, 1, 7, 8, 7, 8, 9, 2, 4])"
            ]
          },
          "metadata": {},
          "execution_count": 89
        }
      ]
    },
    {
      "cell_type": "code",
      "source": [
        "np.unique(r)"
      ],
      "metadata": {
        "id": "4qcVly8nnZYh",
        "outputId": "b79b58ee-5fb8-43a6-dc99-2057dfff58b7",
        "colab": {
          "base_uri": "https://localhost:8080/"
        }
      },
      "execution_count": 91,
      "outputs": [
        {
          "output_type": "execute_result",
          "data": {
            "text/plain": [
              "array([1, 2, 3, 4, 5, 6, 7, 8, 9])"
            ]
          },
          "metadata": {},
          "execution_count": 91
        }
      ]
    },
    {
      "cell_type": "code",
      "source": [
        "np.unique(r, return_counts=True) # 1:고유값 2: 고유값마다 몇 개가 있는지"
      ],
      "metadata": {
        "id": "Ds7CCekMnd7T",
        "outputId": "e1f49486-1b0f-4581-9daf-5d144f9e51f7",
        "colab": {
          "base_uri": "https://localhost:8080/"
        }
      },
      "execution_count": 94,
      "outputs": [
        {
          "output_type": "execute_result",
          "data": {
            "text/plain": [
              "(array([1, 2, 3, 4, 5, 6, 7, 8, 9]),\n",
              " array([ 6, 12, 13,  9,  7,  9,  9, 14, 21]))"
            ]
          },
          "metadata": {},
          "execution_count": 94
        }
      ]
    },
    {
      "cell_type": "code",
      "source": [
        "index, value = np.unique(r, return_counts=True)\n",
        "index, value"
      ],
      "metadata": {
        "id": "qdzqpV-2nl0f",
        "outputId": "f04a8902-98b5-48f6-8d35-23e317077b93",
        "colab": {
          "base_uri": "https://localhost:8080/"
        }
      },
      "execution_count": 95,
      "outputs": [
        {
          "output_type": "execute_result",
          "data": {
            "text/plain": [
              "(array([1, 2, 3, 4, 5, 6, 7, 8, 9]),\n",
              " array([ 6, 12, 13,  9,  7,  9,  9, 14, 21]))"
            ]
          },
          "metadata": {},
          "execution_count": 95
        }
      ]
    },
    {
      "cell_type": "code",
      "source": [
        "zip(index, value)"
      ],
      "metadata": {
        "id": "6m2Z1oSwn1Ee",
        "outputId": "5527b007-4c45-47fe-d14e-d56a8ce6b54f",
        "colab": {
          "base_uri": "https://localhost:8080/"
        }
      },
      "execution_count": 96,
      "outputs": [
        {
          "output_type": "execute_result",
          "data": {
            "text/plain": [
              "<zip at 0x7f736f22e9c0>"
            ]
          },
          "metadata": {},
          "execution_count": 96
        }
      ]
    },
    {
      "cell_type": "code",
      "source": [
        "dict(zip(index, value))"
      ],
      "metadata": {
        "id": "CkNA7T23n2Hu",
        "outputId": "7d8c5325-e755-4892-c764-b5df9a42faab",
        "colab": {
          "base_uri": "https://localhost:8080/"
        }
      },
      "execution_count": 97,
      "outputs": [
        {
          "output_type": "execute_result",
          "data": {
            "text/plain": [
              "{1: 6, 2: 12, 3: 13, 4: 9, 5: 7, 6: 9, 7: 9, 8: 14, 9: 21}"
            ]
          },
          "metadata": {},
          "execution_count": 97
        }
      ]
    }
  ]
}